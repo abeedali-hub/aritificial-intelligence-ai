{
  "nbformat": 4,
  "nbformat_minor": 0,
  "metadata": {
    "colab": {
      "provenance": []
    },
    "kernelspec": {
      "name": "python3",
      "display_name": "Python 3"
    },
    "language_info": {
      "name": "python"
    }
  },
  "cells": [
    {
      "cell_type": "code",
      "execution_count": null,
      "metadata": {
        "colab": {
          "base_uri": "https://localhost:8080/"
        },
        "id": "ff539eOpKpVx",
        "outputId": "b71a7f9e-7d6a-4072-8749-b34d49e6773c"
      },
      "outputs": [
        {
          "output_type": "stream",
          "name": "stdout",
          "text": [
            "1. Rock\n",
            "2. Paper\n",
            "3. Scissor\n",
            "4. Quit\n",
            "Enter your choice (1-4): 1\n",
            "You chose Rock\n",
            "Computer chose Scissor\n",
            "You Win!\n",
            "Your score: 1 | Computer score: 0\n",
            "\n",
            "Enter your choice (1-4): 2\n",
            "You chose Paper\n",
            "Computer chose Paper\n",
            "It's a Tie!\n",
            "Your score: 1 | Computer score: 0\n",
            "\n",
            "Enter your choice (1-4): 3\n",
            "You chose Scissor\n",
            "Computer chose Paper\n",
            "You Win!\n",
            "Your score: 2 | Computer score: 0\n",
            "\n",
            "Enter your choice (1-4): 4\n",
            "Game over!\n"
          ]
        }
      ],
      "source": [
        "import random\n",
        "\n",
        "# Track counts of the player's choices\n",
        "player_choices = {\"Rock\": 0, \"Paper\": 0, \"Scissor\": 0}\n",
        "\n",
        "# Mapping of choices\n",
        "choices = {1: \"Rock\", 2: \"Paper\", 3: \"Scissor\"}\n",
        "counters = {\"Rock\": \"Paper\", \"Paper\": \"Scissor\", \"Scissor\": \"Rock\"}  # Best counter moves\n",
        "\n",
        "# Scores\n",
        "player_score = 0\n",
        "computer_score = 0\n",
        "\n",
        "def predict_player_move():\n",
        "    # Calculate probabilities based on player's past choices\n",
        "    total = sum(player_choices.values())\n",
        "    if total == 0:\n",
        "        # If no data, choose randomly\n",
        "        return random.choice([\"Rock\", \"Paper\", \"Scissor\"])\n",
        "    # Calculate probability for each move\n",
        "    probabilities = {move: count / total for move, count in player_choices.items()}\n",
        "    # Predict the player's next move based on the highest probability\n",
        "    predicted_move = max(probabilities, key=probabilities.get)\n",
        "    return counters[predicted_move]  # Return the counter to the predicted move\n",
        "\n",
        "print(\"1. Rock\\n2. Paper\\n3. Scissor\\n4. Quit\")\n",
        "\n",
        "while True:\n",
        "    player_input = input(\"Enter your choice (1-4): \")\n",
        "\n",
        "    if player_input == '4':\n",
        "        break\n",
        "\n",
        "    if player_input in ['1', '2', '3']:\n",
        "        player_choice = choices[int(player_input)]\n",
        "        computer_choice = predict_player_move()\n",
        "\n",
        "        # Print choices\n",
        "        print(f\"You chose {player_choice}\")\n",
        "        print(f\"Computer chose {computer_choice}\")\n",
        "\n",
        "        # Update player's choice count\n",
        "        player_choices[player_choice] += 1\n",
        "\n",
        "        # Determine the outcome\n",
        "        if player_choice == computer_choice:\n",
        "            print(\"It's a Tie!\")\n",
        "        elif counters[player_choice] == computer_choice:\n",
        "            print(\"You Lose!\")\n",
        "            computer_score += 1\n",
        "        else:\n",
        "            print(\"You Win!\")\n",
        "            player_score += 1\n",
        "\n",
        "        # Display scores\n",
        "        print(f\"Your score: {player_score} | Computer score: {computer_score}\\n\")\n",
        "\n",
        "    else:\n",
        "        print(\"Enter a valid input (1-4)\")\n",
        "\n",
        "print(\"Game over!\")"
      ]
    }
  ]
}